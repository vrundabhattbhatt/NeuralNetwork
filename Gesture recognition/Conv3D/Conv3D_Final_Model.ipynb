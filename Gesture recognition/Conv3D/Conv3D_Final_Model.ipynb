{
 "cells": [
  {
   "cell_type": "markdown",
   "metadata": {},
   "source": [
    "# Gesture Recognition\n",
    "In this group project, you are going to build a 3D Conv model that will be able to predict the 5 gestures correctly. Please import the following libraries to get started."
   ]
  },
  {
   "cell_type": "code",
   "execution_count": 15,
   "metadata": {},
   "outputs": [],
   "source": [
    "import numpy as np\n",
    "import os\n",
    "from scipy.misc import imread, imresize\n",
    "import datetime\n",
    "import os\n",
    "import cv2"
   ]
  },
  {
   "cell_type": "markdown",
   "metadata": {},
   "source": [
    "We set the random seed so that the results don't vary drastically."
   ]
  },
  {
   "cell_type": "code",
   "execution_count": 16,
   "metadata": {},
   "outputs": [],
   "source": [
    "np.random.seed(30)\n",
    "import random as rn\n",
    "rn.seed(30)\n",
    "from keras import backend as K\n",
    "import tensorflow as tf\n",
    "tf.set_random_seed(30)"
   ]
  },
  {
   "cell_type": "markdown",
   "metadata": {},
   "source": [
    "In this block, you read the folder names for training and validation. You also set the `batch_size` here. Note that you set the batch size in such a way that you are able to use the GPU in full capacity. You keep increasing the batch size until the machine throws an error."
   ]
  },
  {
   "cell_type": "code",
   "execution_count": 17,
   "metadata": {},
   "outputs": [],
   "source": [
    "train_doc = np.random.permutation(open('storage/casestudy_data/train.csv').readlines())\n",
    "val_doc = np.random.permutation(open('storage/casestudy_data/val.csv').readlines())\n",
    "batch_size = 8 #experiment with the batch size"
   ]
  },
  {
   "cell_type": "markdown",
   "metadata": {},
   "source": [
    "### Parameters declaration"
   ]
  },
  {
   "cell_type": "markdown",
   "metadata": {},
   "source": [
    "Here we are setting up the dimensions we want to use for images. as we know in data there are two types of images 360X360 and 120X160. here we are defining the variables that will be used to define the final dimensions of input images"
   ]
  },
  {
   "cell_type": "code",
   "execution_count": 18,
   "metadata": {},
   "outputs": [],
   "source": [
    "# Parameters initialization\n",
    "nb_rows = 120   # X dimension of the image\n",
    "nb_cols = 120   # Y dimesnion of the image\n",
    "nb_channel = 3 # numbe rof channels in images 3 for color(RGB) and 1 for Gray\n",
    "nb_classes=5\n",
    "nb_frames=15"
   ]
  },
  {
   "cell_type": "code",
   "execution_count": 19,
   "metadata": {
    "scrolled": true
   },
   "outputs": [
    {
     "name": "stdout",
     "output_type": "stream",
     "text": [
      "# training sequences = 663\n",
      "# validation sequences = 100\n",
      "# epochs = 25\n"
     ]
    }
   ],
   "source": [
    "curr_dt_time = datetime.datetime.now()\n",
    "train_path = 'storage/casestudy_data/train'\n",
    "val_path = 'storage/casestudy_data/val'\n",
    "num_train_sequences = len(train_doc)\n",
    "print('# training sequences =', num_train_sequences)\n",
    "num_val_sequences = len(val_doc)\n",
    "print('# validation sequences =', num_val_sequences)\n",
    "num_epochs =25 # choose the number of epochs\n",
    "print ('# epochs =', num_epochs)"
   ]
  },
  {
   "cell_type": "markdown",
   "metadata": {},
   "source": [
    "## Preprocessing functions\n",
    " \n",
    " ### functions created to use while preprocessing\n",
    " 1. init_batch_data: initializes the variables to contain data with finalized dimensions of each frame\n",
    " 2. get_random_affine: used for affine transformation\n",
    " 3. normalized_image: used to normalize each channel of each image seprately\n",
    " 4. crop_and_resize_image: used to crop image and resize it to 120 X 120 dimensions\n",
    " 5. get_batch_data : used to get data in batch without affine transform and flip(without augmentation)\n",
    " 6. get_batchdata_augmented: use to get data in batch with augmentation(affine transform and flip image)\n",
    " "
   ]
  },
  {
   "cell_type": "code",
   "execution_count": 20,
   "metadata": {},
   "outputs": [],
   "source": [
    "def init_batch_data(batch_size):\n",
    "    batch_data = np.zeros((batch_size, nb_frames, nb_rows, nb_cols, nb_channel)) \n",
    "    batch_labels = np.zeros((batch_size,5)) # batch_labels is the one hot representation of the output\n",
    "    return batch_data, batch_labels"
   ]
  },
  {
   "cell_type": "code",
   "execution_count": 21,
   "metadata": {},
   "outputs": [],
   "source": [
    "# Helper function to generate a random affine transform on the iamge\n",
    "def get_random_affine():\n",
    "    dx, dy = np.random.randint(-1.7, 1.8, 2)\n",
    "    M = np.float32([[1, 0, dx], [0, 1, dy]])\n",
    "    return M"
   ]
  },
  {
   "cell_type": "code",
   "execution_count": 22,
   "metadata": {},
   "outputs": [],
   "source": [
    "def normalize_image(img):\n",
    "    normalized_image= img - np.percentile(img,15)/ np.percentile(img,85) - np.percentile(img,15)\n",
    "    return normalized_image"
   ]
  },
  {
   "cell_type": "code",
   "execution_count": 23,
   "metadata": {},
   "outputs": [],
   "source": [
    "#checked the data and if we crop more than 10 pixels some of images having dimesions 120X160\n",
    "#are loosing the hand object in image. hence cropping  by 10X10 and then resizing so image wont shrink much too\n",
    "def crop_and_resize_image(img):\n",
    "    if img.shape[0] != img.shape[1]:\n",
    "        img=img[0:120,10:150]\n",
    "    resized_image = imresize(img, (nb_rows,nb_cols))\n",
    "    return resized_image\n"
   ]
  },
  {
   "cell_type": "code",
   "execution_count": 24,
   "metadata": {},
   "outputs": [],
   "source": [
    "def get_batchdata(source_path, folder_list, batch_num, batch_size, t):\n",
    "    \n",
    "    batch_data,batch_labels = init_batch_data(batch_size)  \n",
    "    \n",
    "    #create a list of image numbers you want to use for a particular video using full frames  \n",
    "    img_idx = [x for x in range(0, 30,2)] \n",
    "\n",
    "    for folder in range(batch_size): # iterate over the batch_size\n",
    "        # read all the images in the folder\n",
    "        imgs = sorted(os.listdir(source_path+'/'+ t[folder + (batch_num*batch_size)].split(';')[0])) \n",
    "        \n",
    "        # create a random affine to be used in image transformation for buidling agumented data set\n",
    "        M = get_random_affine()\n",
    "        \n",
    "        #  Iterate over the frames for each folder to read them in\n",
    "        for idx, item in enumerate(img_idx): \n",
    "            #image read with simpleITK was giving warnings hence, used cv2\n",
    "            image = cv2.imread(source_path+'/'+ t[folder + (batch_num*batch_size)].strip().split(';')[0]+'/'+imgs[item], cv2.IMREAD_COLOR)\n",
    "            image = cv2.cvtColor(image, cv2.COLOR_BGR2RGB)\n",
    "            \n",
    "            # Cropping non symmetric frames\n",
    "            #crop the images and resize them. Note that the images are of 2 different shape \n",
    "            #and the conv3D will throw error if the inputs in a batch have different shapes \n",
    "            resized_image=crop_and_resize_image(image)\n",
    "            \n",
    "            #Normal data\n",
    "            batch_data[folder,idx,:,:,0] = normalize_image(resized_image[:, : , 0])#normalise and feed in the image\n",
    "            batch_data[folder,idx,:,:,1] = normalize_image(resized_image[:, : , 1])#normalise and feed in the image\n",
    "            batch_data[folder,idx,:,:,2] = normalize_image(resized_image[:, : , 2])#normalise and feed in the image         \n",
    "\n",
    "        batch_labels[folder, int(t[folder + (batch_num*batch_size)].strip().split(';')[2])] = 1       \n",
    "\n",
    "        \n",
    "    return batch_data,batch_labels"
   ]
  },
  {
   "cell_type": "code",
   "execution_count": 25,
   "metadata": {},
   "outputs": [],
   "source": [
    "def get_batchdata_augmented(source_path, folder_list, batch_num, batch_size, t,validation):\n",
    "    \n",
    "    # intialize variables to store data read from train data\n",
    "    batch_data,batch_labels = init_batch_data(batch_size)\n",
    "    \n",
    "    # intialize variables for augumented batch data with affine transformation\n",
    "    batch_data_aug,batch_labels_aug = init_batch_data(batch_size)\n",
    "    \n",
    "    # intialize variables for augmented batch data with horizontal flip\n",
    "    batch_data_flip,batch_labels_flip = init_batch_data(batch_size)\n",
    "    \n",
    "    #create a list of image numbers you want to use for a particular video using full frames\n",
    "    img_idx = [x for x in range(0, 30,2)] \n",
    "    \n",
    "    for folder in range(batch_size): # iterate over the batch_size\n",
    "        # read all the images in the folder\n",
    "        imgs = sorted(os.listdir(source_path+'/'+ t[folder + (batch_num*batch_size)].split(';')[0])) \n",
    "        # create a random affine to be used in image transformation for buidling agumented data set\n",
    "        M = get_random_affine()\n",
    "        \n",
    "        #  Iterate over the frames for each folder to read them in\n",
    "        for idx, item in enumerate(img_idx):             \n",
    "            image = cv2.imread(source_path+'/'+ t[folder + (batch_num*batch_size)].strip().split(';')[0]+'/'+imgs[item], cv2.IMREAD_COLOR)\n",
    "            image = cv2.cvtColor(image, cv2.COLOR_BGR2RGB)\n",
    "            \n",
    "            # Cropping non symmetric frames\n",
    "            #crop the images and resize them. Note that the images are of 2 different shape \n",
    "            #and the conv3D will throw error if the inputs in a batch have different shapes \n",
    "            resized_image=crop_and_resize_image(image)\n",
    "            \n",
    "            #Normal data\n",
    "            batch_data[folder,idx,:,:,0] = normalize_image(resized_image[:, : , 0])#normalise and feed in the image\n",
    "            batch_data[folder,idx,:,:,1] = normalize_image(resized_image[:, : , 1])#normalise and feed in the image\n",
    "            batch_data[folder,idx,:,:,2] = normalize_image(resized_image[:, : , 2])#normalise and feed in the image\n",
    "            \n",
    "            #Data with affine transformation\n",
    "            batch_data_aug[folder,idx] = (cv2.warpAffine(resized_image, M, (resized_image.shape[0], resized_image.shape[1])))\n",
    "            \n",
    "            # Data with horizontal flip\n",
    "            batch_data_flip[folder,idx]= np.flip(resized_image,1)\n",
    "\n",
    "        batch_labels[folder, int(t[folder + (batch_num*batch_size)].strip().split(';')[2])] = 1\n",
    "        batch_labels_aug[folder, int(t[folder + (batch_num*batch_size)].strip().split(';')[2])] = 1\n",
    "        \n",
    "        # Labeling data with horizobtal flip, right swipe becomes left swipe and viceversa\n",
    "        if int(t[folder + (batch_num*batch_size)].strip().split(';')[2])==0:\n",
    "                    batch_labels_flip[folder, 1] = 1\n",
    "        elif int(t[folder + (batch_num*batch_size)].strip().split(';')[2])==1:\n",
    "                    batch_labels_flip[folder, 0] = 1\n",
    "                    \n",
    "        else:\n",
    "                    batch_labels_flip[folder, int(t[folder + (batch_num*batch_size)].strip().split(';')[2])] = 1\n",
    "                  \n",
    "    \n",
    "    batch_data_final = np.append(batch_data, batch_data_aug, axis = 0)\n",
    "    batch_data_final = np.append(batch_data_final, batch_data_flip, axis = 0)\n",
    "\n",
    "    batch_labels_final = np.append(batch_labels, batch_labels_aug, axis = 0) \n",
    "    batch_labels_final = np.append(batch_labels_final, batch_labels_flip, axis = 0)\n",
    "    \n",
    "    if validation:\n",
    "        batch_data_final=batch_data\n",
    "        batch_labels_final= batch_labels\n",
    "        \n",
    "    return batch_data_final,batch_labels_final"
   ]
  },
  {
   "cell_type": "markdown",
   "metadata": {},
   "source": [
    "## Generator\n",
    "This is one of the most important part of the code. The overall structure of the generator has been given. In the generator, you are going to preprocess the images as you have images of 2 different dimensions as well as create a batch of video frames. You have to experiment with `img_idx`, `y`,`z` and normalization such that you get high accuracy.\n",
    "\n",
    "### There are two functions created\n",
    "1. generator: this function used to get data in batch without augmentation\n",
    "2. generator_agumentation : this function used to get data with augmentation\n",
    "\n",
    "### in this final model the generator_augmentation function is used."
   ]
  },
  {
   "cell_type": "code",
   "execution_count": 26,
   "metadata": {},
   "outputs": [],
   "source": [
    "def generator(source_path, folder_list, batch_size,ablation=None):\n",
    "    print( 'Source path = ', source_path, '; batch size =', batch_size)\n",
    "    if(ablation!=None):\n",
    "        folder_list=folder_list[:ablation]\n",
    "    while True:\n",
    "        t = np.random.permutation(folder_list)\n",
    "        num_batches = len(folder_list)//batch_size # calculate the number of batches\n",
    "        for batch in range(num_batches): # we iterate over the number of batches\n",
    "            # you yield the batch_data and the batch_labels, remember what does yield do\n",
    "            yield get_batchdata(source_path, folder_list, batch, batch_size, t)\n",
    "            \n",
    "        \n",
    "        # Code for the remaining data points which are left after full batches\n",
    "        if (len(folder_list) != batch_size*num_batches):\n",
    "            batch_size = len(folder_list) - (batch_size*num_batches)\n",
    "            yield get_batchdata(source_path, folder_list, batch, batch_size, t)"
   ]
  },
  {
   "cell_type": "code",
   "execution_count": 27,
   "metadata": {},
   "outputs": [],
   "source": [
    "def generator_augmentation(source_path, folder_list, batch_size, validation=False,ablation=None):\n",
    "    print( 'Source path = ', source_path, '; batch size =', batch_size)\n",
    "    if(ablation!=None):\n",
    "        folder_list=folder_list[:ablation]\n",
    "    while True:\n",
    "        t = np.random.permutation(folder_list)\n",
    "        num_batches = len(folder_list)//batch_size # calculate the number of batches\n",
    "        for batch in range(num_batches): # we iterate over the number of batches\n",
    "            # you yield the batch_data and the batch_labels, remember what does yield do\n",
    "            yield get_batchdata_augmented(source_path, folder_list, batch, batch_size, t,validation)\n",
    "            \n",
    "        \n",
    "        # Code for the remaining data points which are left after full batches\n",
    "        if (len(folder_list) != batch_size*num_batches):\n",
    "            batch_size = len(folder_list) - (batch_size*num_batches)\n",
    "            yield get_batchdata_augmented(source_path, folder_list, batch, batch_size, t,validation)"
   ]
  },
  {
   "cell_type": "markdown",
   "metadata": {},
   "source": [
    "Note here that a video is represented above in the generator as (number of images, height, width, number of channels). Take this into consideration while creating the model architecture."
   ]
  },
  {
   "cell_type": "markdown",
   "metadata": {},
   "source": [
    "## Model\n",
    "Here you make the model using different functionalities that Keras provides. Remember to use `Conv3D` and `MaxPooling3D` and not `Conv2D` and `Maxpooling2D` for a 3D convolution model. You would want to use `TimeDistributed` while building a Conv2D + RNN model. Also remember that the last layer is the softmax. Design the network in such a way that the model is able to give good accuracy on the least number of parameters so that it can fit in the memory of the webcam."
   ]
  },
  {
   "cell_type": "code",
   "execution_count": 28,
   "metadata": {},
   "outputs": [],
   "source": [
    "from keras.models import Sequential, Model\n",
    "from keras.layers import Dense, GRU, Flatten, TimeDistributed, Flatten, BatchNormalization, Activation, Dropout,LSTM\n",
    "from keras.layers.convolutional import Conv3D, MaxPooling3D, ZeroPadding3D\n",
    "from keras.callbacks import ModelCheckpoint, ReduceLROnPlateau\n",
    "from keras.optimizers import Adam\n",
    "\n",
    "\n",
    "nb_featuremap = [8,16,32,64]\n",
    "nb_dense = [128,64,5]\n",
    "\n",
    "# Input\n",
    "input_shape=(nb_frames,nb_rows,nb_cols,nb_channel)\n",
    "\n",
    "# Define model\n",
    "model = Sequential()\n",
    "\n",
    "##Conv3D layers\n",
    "#-----------------------------------------------------------\n",
    "model.add(Conv3D(nb_featuremap[0], \n",
    "                 kernel_size=(5,5,5),\n",
    "                 input_shape=input_shape,\n",
    "                 padding='same', name=\"conv1\"))\n",
    "model.add(Activation('relu'))\n",
    "#-----------------------------------------------------------\n",
    "model.add(Conv3D(nb_featuremap[1], \n",
    "                 kernel_size=(3,3,3),\n",
    "                 padding='same',name=\"conv2\"))\n",
    "model.add(Activation('relu'))\n",
    "model.add(MaxPooling3D(pool_size=(2,2,2)))\n",
    "#-----------------------------------------------------------\n",
    "model.add(Conv3D(nb_featuremap[2], \n",
    "                 kernel_size=(1,3,3), \n",
    "                 padding='same',name=\"conv3\"))\n",
    "model.add(Activation('relu'))\n",
    "model.add(MaxPooling3D(pool_size=(2,2,2)))\n",
    "#-----------------------------------------------------------\n",
    "model.add(BatchNormalization())\n",
    "model.add(Dropout(0.25))\n",
    "model.add(MaxPooling3D(pool_size=(2,2,2)))\n",
    "#-----------------------------------------------------------\n",
    "\n",
    "#-----------------------------------------------------------\n",
    "##Flatten Layers\n",
    "model.add(Flatten())\n",
    "\n",
    "model.add(Dense(nb_dense[0], activation='relu'))\n",
    "model.add(Dropout(0.25))\n",
    "\n",
    "model.add(Dense(nb_dense[1], activation='relu'))\n",
    "\n",
    "#softmax layer\n",
    "model.add(Dense(nb_dense[2], activation='softmax'))\n"
   ]
  },
  {
   "cell_type": "markdown",
   "metadata": {},
   "source": [
    "Now that you have written the model, the next step is to `compile` the model. When you print the `summary` of the model, you'll see the total number of parameters you have to train."
   ]
  },
  {
   "cell_type": "code",
   "execution_count": 29,
   "metadata": {
    "scrolled": true
   },
   "outputs": [
    {
     "name": "stdout",
     "output_type": "stream",
     "text": [
      "_________________________________________________________________\n",
      "Layer (type)                 Output Shape              Param #   \n",
      "=================================================================\n",
      "conv1 (Conv3D)               (None, 15, 120, 120, 8)   3008      \n",
      "_________________________________________________________________\n",
      "activation_4 (Activation)    (None, 15, 120, 120, 8)   0         \n",
      "_________________________________________________________________\n",
      "conv2 (Conv3D)               (None, 15, 120, 120, 16)  3472      \n",
      "_________________________________________________________________\n",
      "activation_5 (Activation)    (None, 15, 120, 120, 16)  0         \n",
      "_________________________________________________________________\n",
      "max_pooling3d_5 (MaxPooling3 (None, 7, 60, 60, 16)     0         \n",
      "_________________________________________________________________\n",
      "conv3 (Conv3D)               (None, 7, 60, 60, 32)     4640      \n",
      "_________________________________________________________________\n",
      "activation_6 (Activation)    (None, 7, 60, 60, 32)     0         \n",
      "_________________________________________________________________\n",
      "max_pooling3d_6 (MaxPooling3 (None, 3, 30, 30, 32)     0         \n",
      "_________________________________________________________________\n",
      "batch_normalization_2 (Batch (None, 3, 30, 30, 32)     128       \n",
      "_________________________________________________________________\n",
      "dropout_2 (Dropout)          (None, 3, 30, 30, 32)     0         \n",
      "_________________________________________________________________\n",
      "max_pooling3d_7 (MaxPooling3 (None, 1, 15, 15, 32)     0         \n",
      "_________________________________________________________________\n",
      "flatten_1 (Flatten)          (None, 7200)              0         \n",
      "_________________________________________________________________\n",
      "dense_1 (Dense)              (None, 128)               921728    \n",
      "_________________________________________________________________\n",
      "dropout_3 (Dropout)          (None, 128)               0         \n",
      "_________________________________________________________________\n",
      "dense_2 (Dense)              (None, 64)                8256      \n",
      "_________________________________________________________________\n",
      "dense_3 (Dense)              (None, 5)                 325       \n",
      "=================================================================\n",
      "Total params: 941,557\n",
      "Trainable params: 941,493\n",
      "Non-trainable params: 64\n",
      "_________________________________________________________________\n",
      "None\n"
     ]
    }
   ],
   "source": [
    "optimiser = Adam()#write your optimizer\n",
    "model.compile(optimizer=optimiser, loss='categorical_crossentropy', metrics=['categorical_accuracy'])\n",
    "print (model.summary())"
   ]
  },
  {
   "cell_type": "markdown",
   "metadata": {},
   "source": [
    "Let us create the `train_generator` and the `val_generator` which will be used in `.fit_generator`."
   ]
  },
  {
   "cell_type": "markdown",
   "metadata": {},
   "source": [
    "### Choosing DataSize"
   ]
  },
  {
   "cell_type": "code",
   "execution_count": 30,
   "metadata": {},
   "outputs": [],
   "source": [
    "train_generator = generator_augmentation(train_path, train_doc, batch_size)\n",
    "\n",
    "val_generator = generator_augmentation(train_path, train_doc, batch_size)"
   ]
  },
  {
   "cell_type": "markdown",
   "metadata": {},
   "source": [
    "### Model naming and callbacks"
   ]
  },
  {
   "cell_type": "code",
   "execution_count": 31,
   "metadata": {},
   "outputs": [],
   "source": [
    "model_name = 'Models/Conv_3d_15_epoch25_' + '_' + str(curr_dt_time).replace(' ','').replace(':','_') + '/'\n",
    "    \n",
    "if not os.path.exists(model_name):\n",
    "    os.mkdir(model_name)\n",
    "        \n",
    "filepath = model_name + 'model-{epoch:05d}-{loss:.5f}-{categorical_accuracy:.5f}-{val_loss:.5f}-{val_categorical_accuracy:.5f}.h5'\n",
    "\n",
    "checkpoint = ModelCheckpoint(filepath, monitor='val_loss', verbose=1, save_best_only=False, save_weights_only=False, mode='auto', period=1)\n",
    "\n",
    "LR = ReduceLROnPlateau(monitor='val_loss', factor=0.5, patience=2, cooldown=1, verbose=1)# write the REducelronplateau code here\n",
    "callbacks_list = [checkpoint, LR]"
   ]
  },
  {
   "cell_type": "markdown",
   "metadata": {},
   "source": [
    "The `steps_per_epoch` and `validation_steps` are used by `fit_generator` to decide the number of next() calls it need to make."
   ]
  },
  {
   "cell_type": "code",
   "execution_count": 32,
   "metadata": {},
   "outputs": [],
   "source": [
    "if (num_train_sequences%batch_size) == 0:\n",
    "    steps_per_epoch = int(num_train_sequences/batch_size)\n",
    "else:\n",
    "    steps_per_epoch = (num_train_sequences//batch_size) + 1\n",
    "\n",
    "if (num_val_sequences%batch_size) == 0:\n",
    "    validation_steps = int(num_val_sequences/batch_size)\n",
    "else:\n",
    "    validation_steps = (num_val_sequences//batch_size) + 1"
   ]
  },
  {
   "cell_type": "markdown",
   "metadata": {},
   "source": [
    "Let us now fit the model. This will start training the model and with the help of the checkpoints, you'll be able to save the model at the end of each epoch."
   ]
  },
  {
   "cell_type": "markdown",
   "metadata": {},
   "source": [
    "### Train Model"
   ]
  },
  {
   "cell_type": "code",
   "execution_count": 33,
   "metadata": {},
   "outputs": [
    {
     "name": "stdout",
     "output_type": "stream",
     "text": [
      "Source path =  storage/casestudy_data/train ; batch size = 8\n",
      "Source path =  storage/casestudy_data/train ; batch size = 8\n",
      "Epoch 1/25\n"
     ]
    },
    {
     "name": "stderr",
     "output_type": "stream",
     "text": [
      "/mnt/disks/user/anaconda3/lib/python3.6/site-packages/ipykernel_launcher.py:6: DeprecationWarning: `imresize` is deprecated!\n",
      "`imresize` is deprecated in SciPy 1.0.0, and will be removed in 1.3.0.\n",
      "Use Pillow instead: ``numpy.array(Image.fromarray(arr).resize())``.\n",
      "  \n",
      "/mnt/disks/user/anaconda3/lib/python3.6/site-packages/ipykernel_launcher.py:6: DeprecationWarning: `imresize` is deprecated!\n",
      "`imresize` is deprecated in SciPy 1.0.0, and will be removed in 1.3.0.\n",
      "Use Pillow instead: ``numpy.array(Image.fromarray(arr).resize())``.\n",
      "  \n"
     ]
    },
    {
     "name": "stdout",
     "output_type": "stream",
     "text": [
      "83/83 [==============================] - 220s 3s/step - loss: 1.8137 - categorical_accuracy: 0.2761 - val_loss: 1.8141 - val_categorical_accuracy: 0.2500\n",
      "\n",
      "Epoch 00001: saving model to Models/Conv_3d_15_epoch25__2019-03-1406_26_37.718759/model-00001-1.81437-0.27602-1.81407-0.25000.h5\n",
      "Epoch 2/25\n",
      "83/83 [==============================] - 129s 2s/step - loss: 1.4061 - categorical_accuracy: 0.3936 - val_loss: 1.4908 - val_categorical_accuracy: 0.3974\n",
      "\n",
      "Epoch 00002: saving model to Models/Conv_3d_15_epoch25__2019-03-1406_26_37.718759/model-00002-1.40607-0.39357-1.49082-0.39744.h5\n",
      "Epoch 3/25\n",
      "83/83 [==============================] - 111s 1s/step - loss: 1.3112 - categorical_accuracy: 0.4478 - val_loss: 1.6194 - val_categorical_accuracy: 0.3878\n",
      "\n",
      "Epoch 00003: saving model to Models/Conv_3d_15_epoch25__2019-03-1406_26_37.718759/model-00003-1.31882-0.44317-1.61937-0.38782.h5\n",
      "Epoch 4/25\n",
      "83/83 [==============================] - 99s 1s/step - loss: 1.2921 - categorical_accuracy: 0.4412 - val_loss: 1.7774 - val_categorical_accuracy: 0.4455\n",
      "\n",
      "Epoch 00004: saving model to Models/Conv_3d_15_epoch25__2019-03-1406_26_37.718759/model-00004-1.30170-0.44025-1.77737-0.44551.h5\n",
      "\n",
      "Epoch 00004: ReduceLROnPlateau reducing learning rate to 0.0005000000237487257.\n",
      "Epoch 5/25\n",
      "83/83 [==============================] - 71s 858ms/step - loss: 1.1895 - categorical_accuracy: 0.5221 - val_loss: 1.0868 - val_categorical_accuracy: 0.5865\n",
      "\n",
      "Epoch 00005: saving model to Models/Conv_3d_15_epoch25__2019-03-1406_26_37.718759/model-00005-1.18946-0.52209-1.08679-0.58654.h5\n",
      "Epoch 6/25\n",
      "83/83 [==============================] - 72s 863ms/step - loss: 1.0948 - categorical_accuracy: 0.5489 - val_loss: 1.0755 - val_categorical_accuracy: 0.6282\n",
      "\n",
      "Epoch 00006: saving model to Models/Conv_3d_15_epoch25__2019-03-1406_26_37.718759/model-00006-1.09480-0.54886-1.07552-0.62821.h5\n",
      "Epoch 7/25\n",
      "83/83 [==============================] - 71s 856ms/step - loss: 0.9242 - categorical_accuracy: 0.6198 - val_loss: 1.6284 - val_categorical_accuracy: 0.5860\n",
      "\n",
      "Epoch 00007: saving model to Models/Conv_3d_15_epoch25__2019-03-1406_26_37.718759/model-00007-0.92416-0.61981-1.62838-0.58596.h5\n",
      "Epoch 8/25\n",
      "83/83 [==============================] - 70s 847ms/step - loss: 0.9327 - categorical_accuracy: 0.6238 - val_loss: 2.2617 - val_categorical_accuracy: 0.5055\n",
      "\n",
      "Epoch 00008: saving model to Models/Conv_3d_15_epoch25__2019-03-1406_26_37.718759/model-00008-0.93267-0.62383-2.26173-0.50549.h5\n",
      "\n",
      "Epoch 00008: ReduceLROnPlateau reducing learning rate to 0.0002500000118743628.\n",
      "Epoch 9/25\n",
      "83/83 [==============================] - 70s 844ms/step - loss: 0.7780 - categorical_accuracy: 0.7082 - val_loss: 0.9588 - val_categorical_accuracy: 0.6740\n",
      "\n",
      "Epoch 00009: saving model to Models/Conv_3d_15_epoch25__2019-03-1406_26_37.718759/model-00009-0.77797-0.70817-0.95884-0.67399.h5\n",
      "Epoch 10/25\n",
      "83/83 [==============================] - 72s 865ms/step - loss: 0.6163 - categorical_accuracy: 0.7724 - val_loss: 0.7588 - val_categorical_accuracy: 0.7582\n",
      "\n",
      "Epoch 00010: saving model to Models/Conv_3d_15_epoch25__2019-03-1406_26_37.718759/model-00010-0.61631-0.77242-0.75884-0.75824.h5\n",
      "Epoch 11/25\n",
      "83/83 [==============================] - 71s 857ms/step - loss: 0.6209 - categorical_accuracy: 0.7470 - val_loss: 0.6108 - val_categorical_accuracy: 0.7656\n",
      "\n",
      "Epoch 00011: saving model to Models/Conv_3d_15_epoch25__2019-03-1406_26_37.718759/model-00011-0.62086-0.74699-0.61076-0.76557.h5\n",
      "Epoch 12/25\n",
      "83/83 [==============================] - 71s 851ms/step - loss: 0.6158 - categorical_accuracy: 0.7564 - val_loss: 1.0668 - val_categorical_accuracy: 0.7473\n",
      "\n",
      "Epoch 00012: saving model to Models/Conv_3d_15_epoch25__2019-03-1406_26_37.718759/model-00012-0.61577-0.75636-1.06679-0.74725.h5\n",
      "Epoch 13/25\n",
      "83/83 [==============================] - 71s 851ms/step - loss: 0.5037 - categorical_accuracy: 0.8032 - val_loss: 0.9718 - val_categorical_accuracy: 0.6886\n",
      "\n",
      "Epoch 00013: saving model to Models/Conv_3d_15_epoch25__2019-03-1406_26_37.718759/model-00013-0.50369-0.80321-0.97176-0.68864.h5\n",
      "\n",
      "Epoch 00013: ReduceLROnPlateau reducing learning rate to 0.0001250000059371814.\n",
      "Epoch 14/25\n",
      "83/83 [==============================] - 70s 844ms/step - loss: 0.4507 - categorical_accuracy: 0.8353 - val_loss: 0.7837 - val_categorical_accuracy: 0.7860\n",
      "\n",
      "Epoch 00014: saving model to Models/Conv_3d_15_epoch25__2019-03-1406_26_37.718759/model-00014-0.45069-0.83534-0.78370-0.78601.h5\n",
      "Epoch 15/25\n",
      "83/83 [==============================] - 67s 812ms/step - loss: 0.4283 - categorical_accuracy: 0.8420 - val_loss: 0.9548 - val_categorical_accuracy: 0.7692\n",
      "\n",
      "Epoch 00015: saving model to Models/Conv_3d_15_epoch25__2019-03-1406_26_37.718759/model-00015-0.42834-0.84203-0.95476-0.76923.h5\n",
      "\n",
      "Epoch 00015: ReduceLROnPlateau reducing learning rate to 6.25000029685907e-05.\n",
      "Epoch 16/25\n",
      "83/83 [==============================] - 68s 819ms/step - loss: 0.3750 - categorical_accuracy: 0.8768 - val_loss: 0.3108 - val_categorical_accuracy: 0.8872\n",
      "\n",
      "Epoch 00016: saving model to Models/Conv_3d_15_epoch25__2019-03-1406_26_37.718759/model-00016-0.37502-0.87684-0.31077-0.88718.h5\n",
      "Epoch 17/25\n",
      "83/83 [==============================] - 68s 819ms/step - loss: 0.3798 - categorical_accuracy: 0.8527 - val_loss: 0.4767 - val_categorical_accuracy: 0.8667\n",
      "\n",
      "Epoch 00017: saving model to Models/Conv_3d_15_epoch25__2019-03-1406_26_37.718759/model-00017-0.37985-0.85274-0.47667-0.86667.h5\n",
      "Epoch 18/25\n",
      "83/83 [==============================] - 68s 819ms/step - loss: 0.3696 - categorical_accuracy: 0.8514 - val_loss: 0.5115 - val_categorical_accuracy: 0.8256\n",
      "\n",
      "Epoch 00018: saving model to Models/Conv_3d_15_epoch25__2019-03-1406_26_37.718759/model-00018-0.36960-0.85141-0.51146-0.82564.h5\n",
      "\n",
      "Epoch 00018: ReduceLROnPlateau reducing learning rate to 3.125000148429535e-05.\n",
      "Epoch 19/25\n",
      "83/83 [==============================] - 67s 811ms/step - loss: 0.3192 - categorical_accuracy: 0.8795 - val_loss: 0.4068 - val_categorical_accuracy: 0.8667\n",
      "\n",
      "Epoch 00019: saving model to Models/Conv_3d_15_epoch25__2019-03-1406_26_37.718759/model-00019-0.31919-0.87952-0.40683-0.86667.h5\n",
      "Epoch 20/25\n",
      "83/83 [==============================] - 68s 814ms/step - loss: 0.3552 - categorical_accuracy: 0.8675 - val_loss: 0.5385 - val_categorical_accuracy: 0.8000\n",
      "\n",
      "Epoch 00020: saving model to Models/Conv_3d_15_epoch25__2019-03-1406_26_37.718759/model-00020-0.35522-0.86747-0.53854-0.80000.h5\n",
      "\n",
      "Epoch 00020: ReduceLROnPlateau reducing learning rate to 1.5625000742147677e-05.\n",
      "Epoch 21/25\n",
      "83/83 [==============================] - 67s 813ms/step - loss: 0.2967 - categorical_accuracy: 0.8969 - val_loss: 0.7292 - val_categorical_accuracy: 0.8051\n",
      "\n",
      "Epoch 00021: saving model to Models/Conv_3d_15_epoch25__2019-03-1406_26_37.718759/model-00021-0.29667-0.89692-0.72920-0.80513.h5\n",
      "Epoch 22/25\n",
      "83/83 [==============================] - 68s 814ms/step - loss: 0.3443 - categorical_accuracy: 0.8701 - val_loss: 0.5988 - val_categorical_accuracy: 0.7897\n",
      "\n",
      "Epoch 00022: saving model to Models/Conv_3d_15_epoch25__2019-03-1406_26_37.718759/model-00022-0.34426-0.87015-0.59880-0.78974.h5\n",
      "\n",
      "Epoch 00022: ReduceLROnPlateau reducing learning rate to 7.812500371073838e-06.\n",
      "Epoch 23/25\n",
      "83/83 [==============================] - 67s 807ms/step - loss: 0.3152 - categorical_accuracy: 0.8942 - val_loss: 0.4300 - val_categorical_accuracy: 0.8667\n",
      "\n",
      "Epoch 00023: saving model to Models/Conv_3d_15_epoch25__2019-03-1406_26_37.718759/model-00023-0.31523-0.89424-0.42997-0.86667.h5\n",
      "Epoch 24/25\n",
      "83/83 [==============================] - 67s 807ms/step - loss: 0.3111 - categorical_accuracy: 0.8835 - val_loss: 0.7263 - val_categorical_accuracy: 0.8033\n",
      "\n",
      "Epoch 00024: saving model to Models/Conv_3d_15_epoch25__2019-03-1406_26_37.718759/model-00024-0.31110-0.88353-0.72633-0.80328.h5\n",
      "\n",
      "Epoch 00024: ReduceLROnPlateau reducing learning rate to 3.906250185536919e-06.\n",
      "Epoch 25/25\n",
      "83/83 [==============================] - 60s 725ms/step - loss: 0.3225 - categorical_accuracy: 0.8902 - val_loss: 0.4421 - val_categorical_accuracy: 0.8547\n",
      "\n",
      "Epoch 00025: saving model to Models/Conv_3d_15_epoch25__2019-03-1406_26_37.718759/model-00025-0.32248-0.89023-0.44208-0.85470.h5\n"
     ]
    },
    {
     "data": {
      "text/plain": [
       "<keras.callbacks.History at 0x7fac86369668>"
      ]
     },
     "execution_count": 33,
     "metadata": {},
     "output_type": "execute_result"
    }
   ],
   "source": [
    "model.fit_generator(train_generator, steps_per_epoch=steps_per_epoch, epochs=num_epochs, verbose=1, \n",
    "                    callbacks=callbacks_list, validation_data=val_generator, use_multiprocessing=True,\n",
    "                    validation_steps=validation_steps, class_weight=None, workers=1, initial_epoch=0)"
   ]
  },
  {
   "cell_type": "code",
   "execution_count": null,
   "metadata": {},
   "outputs": [],
   "source": []
  }
 ],
 "metadata": {
  "kernelspec": {
   "display_name": "Python 3",
   "language": "python",
   "name": "python3"
  },
  "language_info": {
   "codemirror_mode": {
    "name": "ipython",
    "version": 3
   },
   "file_extension": ".py",
   "mimetype": "text/x-python",
   "name": "python",
   "nbconvert_exporter": "python",
   "pygments_lexer": "ipython3",
   "version": "3.6.5"
  }
 },
 "nbformat": 4,
 "nbformat_minor": 2
}
