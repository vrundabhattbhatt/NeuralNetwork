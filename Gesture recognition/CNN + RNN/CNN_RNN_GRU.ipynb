{
 "cells": [
  {
   "cell_type": "markdown",
   "metadata": {},
   "source": [
    "# Gesture Recognition\n",
    "In this group project, you are going to build a 3D Conv model that will be able to predict the 5 gestures correctly. Please import the following libraries to get started."
   ]
  },
  {
   "cell_type": "code",
   "execution_count": 1,
   "metadata": {},
   "outputs": [],
   "source": [
    "import numpy as np\n",
    "import os\n",
    "from scipy.misc import imread, imresize\n",
    "import datetime\n",
    "import os\n",
    "import cv2"
   ]
  },
  {
   "cell_type": "markdown",
   "metadata": {},
   "source": [
    "We set the random seed so that the results don't vary drastically."
   ]
  },
  {
   "cell_type": "code",
   "execution_count": 2,
   "metadata": {},
   "outputs": [
    {
     "name": "stderr",
     "output_type": "stream",
     "text": [
      "Using TensorFlow backend.\n"
     ]
    }
   ],
   "source": [
    "np.random.seed(30)\n",
    "import random as rn\n",
    "rn.seed(30)\n",
    "from keras import backend as K\n",
    "import tensorflow as tf\n",
    "tf.set_random_seed(30)"
   ]
  },
  {
   "cell_type": "markdown",
   "metadata": {},
   "source": [
    "In this block, you read the folder names for training and validation. You also set the `batch_size` here. Note that you set the batch size in such a way that you are able to use the GPU in full capacity. You keep increasing the batch size until the machine throws an error."
   ]
  },
  {
   "cell_type": "code",
   "execution_count": 3,
   "metadata": {},
   "outputs": [],
   "source": [
    "train_doc = np.random.permutation(open('storage/Project_data/train.csv').readlines())\n",
    "val_doc = np.random.permutation(open('storage/Project_data/val.csv').readlines())\n",
    "batch_size = 16 #experiment with the batch size"
   ]
  },
  {
   "cell_type": "markdown",
   "metadata": {},
   "source": [
    "### Additional Functions"
   ]
  },
  {
   "cell_type": "code",
   "execution_count": 4,
   "metadata": {},
   "outputs": [],
   "source": [
    "def init_batch_data(batch_size):\n",
    "    batch_data = np.zeros((batch_size, nb_frames, nb_rows, nb_cols, nb_channel)) \n",
    "    batch_labels = np.zeros((batch_size,5)) # batch_labels is the one hot representation of the output\n",
    "    return batch_data, batch_labels"
   ]
  },
  {
   "cell_type": "code",
   "execution_count": 5,
   "metadata": {},
   "outputs": [],
   "source": [
    "# Helper function to generate a random affine transform on the iamge\n",
    "def get_random_affine():\n",
    "    dx, dy = np.random.randint(-1.7, 1.8, 2)\n",
    "    M = np.float32([[1, 0, dx], [0, 1, dy]])\n",
    "    return M"
   ]
  },
  {
   "cell_type": "code",
   "execution_count": 6,
   "metadata": {},
   "outputs": [],
   "source": [
    "def normalize_image(img):\n",
    "    normalized_image= img - np.percentile(img,15)/ np.percentile(img,85) - np.percentile(img,15)\n",
    "    return normalized_image"
   ]
  },
  {
   "cell_type": "code",
   "execution_count": 7,
   "metadata": {},
   "outputs": [],
   "source": [
    "#checked the data and if we crop more than 10 pixels some of images having dimesions \n",
    "#120X160 are loosing the hand object in image. hence cropping  by 10X10 and then resizing so image wont shrink much too\n",
    "def crop_and_resize_image(img):\n",
    "    if img.shape[0] != img.shape[1]:\n",
    "        img=img[0:120,10:150]\n",
    "    resized_image = imresize(img, (nb_rows,nb_cols))\n",
    "    return resized_image"
   ]
  },
  {
   "cell_type": "code",
   "execution_count": 8,
   "metadata": {},
   "outputs": [],
   "source": [
    "def get_batchdata(source_path, folder_list, batch_num, batch_size, t):\n",
    "    \n",
    "    batch_data,batch_labels = init_batch_data(batch_size)  \n",
    "    \n",
    "    #create a list of image numbers you want to use for a particular video using full frames\n",
    "    img_idx = [x for x in range(0, nb_frames)] \n",
    "\n",
    "    for folder in range(batch_size): # iterate over the batch_size\n",
    "        # read all the images in the folder\n",
    "        imgs = sorted(os.listdir(source_path+'/'+ t[folder + (batch_num*batch_size)].split(';')[0])) \n",
    "        # Generate a random affine to be used in image transformation for buidling agumented data set\n",
    "        M = get_random_affine()\n",
    "        \n",
    "        #  Iterate over the frames/images of a folder to read them in\n",
    "        for idx, item in enumerate(img_idx): \n",
    "            image = cv2.imread(source_path+'/'+ t[folder + (batch_num*batch_size)].strip().split(';')[0]+'/'+imgs[item], cv2.IMREAD_COLOR)\n",
    "            image = cv2.cvtColor(image, cv2.COLOR_BGR2RGB)\n",
    "            \n",
    "            # Cropping non symmetric frames\n",
    "            #crop the images and resize them. Note that the images are of 2 different shape \n",
    "            #and the conv3D will throw error if the inputs in a batch have different shapes \n",
    "            resized_image=crop_and_resize_image(image)\n",
    "            \n",
    "            #Normal data\n",
    "            batch_data[folder,idx,:,:,0] = normalize_image(resized_image[:, : , 0])#normalise and feed in the image\n",
    "            batch_data[folder,idx,:,:,1] = normalize_image(resized_image[:, : , 1])#normalise and feed in the image\n",
    "            batch_data[folder,idx,:,:,2] = normalize_image(resized_image[:, : , 2])#normalise and feed in the image         \n",
    "\n",
    "        batch_labels[folder, int(t[folder + (batch_num*batch_size)].strip().split(';')[2])] = 1       \n",
    "\n",
    "        \n",
    "    return batch_data,batch_labels"
   ]
  },
  {
   "cell_type": "code",
   "execution_count": 9,
   "metadata": {},
   "outputs": [],
   "source": [
    "def get_batchdata_augmented(source_path, folder_list, batch_num, batch_size, t,validation):\n",
    "    \n",
    "    batch_data,batch_labels = init_batch_data(batch_size)\n",
    "    \n",
    "    # We will also build an augumented batch data with affine transformation\n",
    "    batch_data_aug,batch_labels_aug = init_batch_data(batch_size)\n",
    "    \n",
    "    # We will also build an augmented batch data with horizontal flip\n",
    "    batch_data_flip,batch_labels_flip = init_batch_data(batch_size)\n",
    "    \n",
    "    #create a list of image numbers you want to use for a particular video using full frames\n",
    "    img_idx = [x for x in range(0, nb_frames)] \n",
    "\n",
    "    for folder in range(batch_size): # iterate over the batch_size\n",
    "        # read all the images in the folder\n",
    "        imgs = sorted(os.listdir(source_path+'/'+ t[folder + (batch_num*batch_size)].split(';')[0])) \n",
    "        # Generate a random affine to be used in image transformation for buidling agumented data set\n",
    "        M = get_random_affine()\n",
    "        \n",
    "        #  Iterate over the frames/images of a folder to read them in\n",
    "        for idx, item in enumerate(img_idx): \n",
    "            image = cv2.imread(source_path+'/'+ t[folder + (batch_num*batch_size)].strip().split(';')[0]+'/'+imgs[item], cv2.IMREAD_COLOR)\n",
    "            image = cv2.cvtColor(image, cv2.COLOR_BGR2RGB)\n",
    "            \n",
    "            # Cropping non symmetric frames\n",
    "            #crop the images and resize them. Note that the images are of 2 different shape \n",
    "            #and the conv3D will throw error if the inputs in a batch have different shapes \n",
    "            resized_image=crop_and_resize_image(image)\n",
    "            \n",
    "            #Normal data\n",
    "            batch_data[folder,idx,:,:,0] = normalize_image(resized_image[:, : , 0])#normalise and feed in the image\n",
    "            batch_data[folder,idx,:,:,1] = normalize_image(resized_image[:, : , 1])#normalise and feed in the image\n",
    "            batch_data[folder,idx,:,:,2] = normalize_image(resized_image[:, : , 2])#normalise and feed in the image\n",
    "            \n",
    "            #Data with affine transformation\n",
    "            batch_data_aug[folder,idx] = (cv2.warpAffine(resized_image, M, (resized_image.shape[0], resized_image.shape[1])))\n",
    "            \n",
    "            # Data with horizontal flip\n",
    "            batch_data_flip[folder,idx]= np.flip(resized_image,1)\n",
    "\n",
    "        batch_labels[folder, int(t[folder + (batch_num*batch_size)].strip().split(';')[2])] = 1\n",
    "        batch_labels_aug[folder, int(t[folder + (batch_num*batch_size)].strip().split(';')[2])] = 1\n",
    "        \n",
    "        # Labeling data with horizobtal flip, right swipe becomes left swipe and viceversa\n",
    "        if int(t[folder + (batch_num*batch_size)].strip().split(';')[2])==0:\n",
    "                    batch_labels_flip[folder, 1] = 1\n",
    "        elif int(t[folder + (batch_num*batch_size)].strip().split(';')[2])==1:\n",
    "                    batch_labels_flip[folder, 0] = 1\n",
    "                    \n",
    "        else:\n",
    "                    batch_labels_flip[folder, int(t[folder + (batch_num*batch_size)].strip().split(';')[2])] = 1\n",
    "                  \n",
    "    \n",
    "    batch_data_final = np.append(batch_data, batch_data_aug, axis = 0)\n",
    "    batch_data_final = np.append(batch_data_final, batch_data_flip, axis = 0)\n",
    "\n",
    "    batch_labels_final = np.append(batch_labels, batch_labels_aug, axis = 0) \n",
    "    batch_labels_final = np.append(batch_labels_final, batch_labels_flip, axis = 0)\n",
    "    \n",
    "    if validation:\n",
    "        batch_data_final=batch_data\n",
    "        batch_labels_final= batch_labels\n",
    "        \n",
    "    return batch_data_final,batch_labels_final"
   ]
  },
  {
   "cell_type": "code",
   "execution_count": 10,
   "metadata": {},
   "outputs": [],
   "source": [
    "def get_batchdata_affinetransform(source_path, folder_list, batch_num, batch_size, t,validation):\n",
    "    \n",
    "    batch_data,batch_labels = init_batch_data(batch_size)\n",
    "    \n",
    "    # We will also build an augumented batch data with affine transformation\n",
    "    batch_data_aug,batch_labels_aug = init_batch_data(batch_size)\n",
    "    \n",
    "   \n",
    "    #create a list of image numbers you want to use for a particular video using full frames\n",
    "    img_idx = [x for x in range(0, nb_frames)] \n",
    "\n",
    "    for folder in range(batch_size): # iterate over the batch_size\n",
    "        # read all the images in the folder\n",
    "        imgs = sorted(os.listdir(source_path+'/'+ t[folder + (batch_num*batch_size)].split(';')[0])) \n",
    "        # Generate a random affine to be used in image transformation for buidling agumented data set\n",
    "        M = get_random_affine()\n",
    "        \n",
    "        #  Iterate over the frames/images of a folder to read them in\n",
    "        for idx, item in enumerate(img_idx): \n",
    "            image = cv2.imread(source_path+'/'+ t[folder + (batch_num*batch_size)].strip().split(';')[0]+'/'+imgs[item], cv2.IMREAD_COLOR)\n",
    "            image = cv2.cvtColor(image, cv2.COLOR_BGR2RGB)\n",
    "            \n",
    "            # Cropping non symmetric frames\n",
    "            #crop the images and resize them. Note that the images are of 2 different shape \n",
    "            #and the conv3D will throw error if the inputs in a batch have different shapes \n",
    "            resized_image=crop_and_resize_image(image)\n",
    "            \n",
    "            #Normal data\n",
    "            batch_data[folder,idx,:,:,0] = normalize_image(resized_image[:, : , 0])#normalise and feed in the image\n",
    "            batch_data[folder,idx,:,:,1] = normalize_image(resized_image[:, : , 1])#normalise and feed in the image\n",
    "            batch_data[folder,idx,:,:,2] = normalize_image(resized_image[:, : , 2])#normalise and feed in the image\n",
    "            \n",
    "           #Data with affine transformation\n",
    "            batch_data_aug[folder,idx] = (cv2.warpAffine(resized_image, M, (resized_image.shape[0], resized_image.shape[1])))\n",
    "            \n",
    "\n",
    "        batch_labels[folder, int(t[folder + (batch_num*batch_size)].strip().split(';')[2])] = 1\n",
    "        batch_labels_aug[folder, int(t[folder + (batch_num*batch_size)].strip().split(';')[2])] = 1\n",
    "               \n",
    "                  \n",
    "    \n",
    "    batch_data_final = np.append(batch_data, batch_data_aug, axis = 0)\n",
    "    batch_labels_final = np.append(batch_labels, batch_labels_aug, axis = 0) \n",
    "\n",
    "    \n",
    "    if validation:\n",
    "        batch_data_final=batch_data\n",
    "        batch_labels_final= batch_labels\n",
    "        \n",
    "    return batch_data_final,batch_labels_final"
   ]
  },
  {
   "cell_type": "markdown",
   "metadata": {},
   "source": [
    "## Generator\n",
    "This is one of the most important part of the code. The overall structure of the generator has been given. In the generator, you are going to preprocess the images as you have images of 2 different dimensions as well as create a batch of video frames. You have to experiment with `img_idx`, `y`,`z` and normalization such that you get high accuracy."
   ]
  },
  {
   "cell_type": "code",
   "execution_count": 11,
   "metadata": {},
   "outputs": [],
   "source": [
    "# Parameters initialization\n",
    "nb_rows = 120   # X dimension of the image\n",
    "nb_cols = 120   # Y dimesnion of the image\n",
    "#total_frames = 30\n",
    "nb_frames = 30  # lenght of the video frames\n",
    "nb_channel = 3 # numbe rof channels in images 3 for color(RGB) and 1 for Gray"
   ]
  },
  {
   "cell_type": "markdown",
   "metadata": {},
   "source": [
    "Note here that a video is represented above in the generator as (number of images, height, width, number of channels). Take this into consideration while creating the model architecture."
   ]
  },
  {
   "cell_type": "code",
   "execution_count": 12,
   "metadata": {},
   "outputs": [],
   "source": [
    "def generator(source_path, folder_list, batch_size,ablation=None):\n",
    "    print( 'Source path = ', source_path, '; batch size =', batch_size)\n",
    "    if(ablation!=None):\n",
    "        folder_list=folder_list[:ablation]\n",
    "    while True:\n",
    "        t = np.random.permutation(folder_list)\n",
    "        num_batches = len(folder_list)//batch_size # calculate the number of batches\n",
    "        for batch in range(num_batches): # we iterate over the number of batches\n",
    "            # you yield the batch_data and the batch_labels, remember what does yield do\n",
    "            yield get_batchdata(source_path, folder_list, batch, batch_size, t)\n",
    "            \n",
    "        \n",
    "        # Code for the remaining data points which are left after full batches\n",
    "        if (len(folder_list) != batch_size*num_batches):\n",
    "            batch_size = len(folder_list) - (batch_size*num_batches)\n",
    "            yield get_batchdata(source_path, folder_list, batch, batch_size, t)"
   ]
  },
  {
   "cell_type": "code",
   "execution_count": 13,
   "metadata": {},
   "outputs": [],
   "source": [
    "def generator_augmentation(source_path, folder_list, batch_size, validation=False,ablation=None):\n",
    "    print( 'Source path = ', source_path, '; batch size =', batch_size)\n",
    "    if(ablation!=None):\n",
    "        folder_list=folder_list[:ablation]\n",
    "    while True:\n",
    "        t = np.random.permutation(folder_list)\n",
    "        num_batches = len(folder_list)//batch_size # calculate the number of batches\n",
    "        for batch in range(num_batches): # we iterate over the number of batches\n",
    "            # you yield the batch_data and the batch_labels, remember what does yield do\n",
    "            yield get_batchdata_affinetransform(source_path, folder_list, batch, batch_size, t,validation)\n",
    "            \n",
    "        \n",
    "        # Code for the remaining data points which are left after full batches\n",
    "        if (len(folder_list) != batch_size*num_batches):\n",
    "            batch_size = len(folder_list) - (batch_size*num_batches)\n",
    "            yield get_batchdata_affinetransform(source_path, folder_list, batch, batch_size, t,validation)"
   ]
  },
  {
   "cell_type": "code",
   "execution_count": 14,
   "metadata": {},
   "outputs": [
    {
     "name": "stdout",
     "output_type": "stream",
     "text": [
      "# training sequences = 663\n",
      "# validation sequences = 100\n",
      "# epochs = 25\n"
     ]
    }
   ],
   "source": [
    "curr_dt_time = datetime.datetime.now()\n",
    "train_path = 'storage/Project_data/train'\n",
    "val_path = 'storage/Project_data/val'\n",
    "num_train_sequences = len(train_doc)\n",
    "print('# training sequences =', num_train_sequences)\n",
    "num_val_sequences = len(val_doc)\n",
    "print('# validation sequences =', num_val_sequences)\n",
    "num_epochs =25\n",
    "print ('# epochs =', num_epochs)"
   ]
  },
  {
   "cell_type": "markdown",
   "metadata": {},
   "source": [
    "## Model\n",
    "Here you make the model using different functionalities that Keras provides. Remember to use `Conv3D` and `MaxPooling3D` and not `Conv2D` and `Maxpooling2D` for a 3D convolution model. You would want to use `TimeDistributed` while building a Conv2D + RNN model. Also remember that the last layer is the softmax. Design the network in such a way that the model is able to give good accuracy on the least number of parameters so that it can fit in the memory of the webcam."
   ]
  },
  {
   "cell_type": "code",
   "execution_count": 15,
   "metadata": {},
   "outputs": [],
   "source": [
    "from keras.models import Sequential, Model\n",
    "from keras.layers import Dense, GRU, Flatten, TimeDistributed, Flatten, BatchNormalization, Activation, Dropout\n",
    "from keras.layers.convolutional import Conv3D,Conv2D, MaxPooling3D, MaxPooling2D\n",
    "from keras.callbacks import ModelCheckpoint, ReduceLROnPlateau\n",
    "from keras import optimizers\n",
    "from keras.applications import ResNet50\n",
    "from keras.applications.resnet50 import preprocess_input\n",
    "from keras.layers.recurrent import LSTM, GRU\n",
    "\n",
    "#write your model here\n",
    "\n",
    "# Input\n",
    "input_shape=(nb_frames,nb_rows,nb_cols,nb_channel)\n",
    "nb_classes = 5\n",
    "nb_featuremap = [8,16,32,64,128,256]\n",
    "nb_dense = [128,64,5]\n",
    "\n",
    "model = Sequential()\n",
    "\n",
    "\n",
    "\n",
    "model.add(TimeDistributed(Conv2D(nb_featuremap[0], (3, 3), strides=(2, 2),activation='relu', padding='same'), input_shape=input_shape))\n",
    "\n",
    "\n",
    "model.add(TimeDistributed(Conv2D(nb_featuremap[1], (3,3),padding='same', activation='relu')))\n",
    "\n",
    "model.add(TimeDistributed(MaxPooling2D((2, 2), strides=(2, 2))))\n",
    "\n",
    "model.add(TimeDistributed(Conv2D(nb_featuremap[2], (3,3),padding='same', activation='relu')))\n",
    "\n",
    "model.add(TimeDistributed(MaxPooling2D((2, 2), strides=(2, 2))))\n",
    "\n",
    "model.add(TimeDistributed(Conv2D(nb_featuremap[3], (2,2),padding='same', activation='relu')))\n",
    "\n",
    "model.add(TimeDistributed(MaxPooling2D((2, 2), strides=(2, 2))))\n",
    "\n",
    "\n",
    "model.add(TimeDistributed(BatchNormalization()))\n",
    "model.add(Dropout(0.25))\n",
    "\n",
    "model.add(TimeDistributed(Flatten()))\n",
    "\n",
    "model.add(Dense(nb_dense[0], activation='relu'))\n",
    "model.add(Dropout(0.25))\n",
    "model.add(Dense(nb_dense[1], activation='relu'))\n",
    "model.add(Dropout(0.25))\n",
    "\n",
    "\n",
    "model.add(GRU(128, return_sequences=False))\n",
    "model.add(Dense(nb_classes, activation='softmax'))\n"
   ]
  },
  {
   "cell_type": "markdown",
   "metadata": {},
   "source": [
    "Now that you have written the model, the next step is to `compile` the model. When you print the `summary` of the model, you'll see the total number of parameters you have to train."
   ]
  },
  {
   "cell_type": "code",
   "execution_count": 16,
   "metadata": {
    "scrolled": true
   },
   "outputs": [
    {
     "name": "stdout",
     "output_type": "stream",
     "text": [
      "_________________________________________________________________\n",
      "Layer (type)                 Output Shape              Param #   \n",
      "=================================================================\n",
      "time_distributed_1 (TimeDist (None, 30, 60, 60, 8)     224       \n",
      "_________________________________________________________________\n",
      "time_distributed_2 (TimeDist (None, 30, 60, 60, 16)    1168      \n",
      "_________________________________________________________________\n",
      "time_distributed_3 (TimeDist (None, 30, 30, 30, 16)    0         \n",
      "_________________________________________________________________\n",
      "time_distributed_4 (TimeDist (None, 30, 30, 30, 32)    4640      \n",
      "_________________________________________________________________\n",
      "time_distributed_5 (TimeDist (None, 30, 15, 15, 32)    0         \n",
      "_________________________________________________________________\n",
      "time_distributed_6 (TimeDist (None, 30, 15, 15, 64)    8256      \n",
      "_________________________________________________________________\n",
      "time_distributed_7 (TimeDist (None, 30, 7, 7, 64)      0         \n",
      "_________________________________________________________________\n",
      "time_distributed_8 (TimeDist (None, 30, 7, 7, 64)      256       \n",
      "_________________________________________________________________\n",
      "dropout_1 (Dropout)          (None, 30, 7, 7, 64)      0         \n",
      "_________________________________________________________________\n",
      "time_distributed_9 (TimeDist (None, 30, 3136)          0         \n",
      "_________________________________________________________________\n",
      "dense_1 (Dense)              (None, 30, 128)           401536    \n",
      "_________________________________________________________________\n",
      "dropout_2 (Dropout)          (None, 30, 128)           0         \n",
      "_________________________________________________________________\n",
      "dense_2 (Dense)              (None, 30, 64)            8256      \n",
      "_________________________________________________________________\n",
      "dropout_3 (Dropout)          (None, 30, 64)            0         \n",
      "_________________________________________________________________\n",
      "gru_1 (GRU)                  (None, 128)               74112     \n",
      "_________________________________________________________________\n",
      "dense_3 (Dense)              (None, 5)                 645       \n",
      "=================================================================\n",
      "Total params: 499,093\n",
      "Trainable params: 498,965\n",
      "Non-trainable params: 128\n",
      "_________________________________________________________________\n",
      "None\n"
     ]
    }
   ],
   "source": [
    "from keras.optimizers import Adam\n",
    "\n",
    "optimiser = Adam()#write your optimizer\n",
    "model.compile(optimizer=optimiser, loss='categorical_crossentropy', metrics=['categorical_accuracy'])\n",
    "print (model.summary())"
   ]
  },
  {
   "cell_type": "markdown",
   "metadata": {},
   "source": [
    "Let us create the `train_generator` and the `val_generator` which will be used in `.fit_generator`."
   ]
  },
  {
   "cell_type": "code",
   "execution_count": 17,
   "metadata": {},
   "outputs": [],
   "source": [
    "train_generator = generator_augmentation(train_path, train_doc, batch_size)\n",
    "\n",
    "val_generator = generator_augmentation(train_path, train_doc, batch_size)"
   ]
  },
  {
   "cell_type": "code",
   "execution_count": 18,
   "metadata": {},
   "outputs": [],
   "source": [
    "model_name = 'CNN_RNN_Models/Trial9_Aug_Affine' + '_' + str(curr_dt_time).replace(' ','').replace(':','_') + '/'\n",
    "    \n",
    "if not os.path.exists(model_name):\n",
    "    os.mkdir(model_name)\n",
    "        \n",
    "filepath = model_name + 'model-{epoch:05d}-{loss:.5f}-{categorical_accuracy:.5f}-{val_loss:.5f}-{val_categorical_accuracy:.5f}.h5'\n",
    "\n",
    "checkpoint = ModelCheckpoint(filepath, monitor='val_loss', verbose=1, save_best_only=False, save_weights_only=False, mode='auto', period=1)\n",
    "\n",
    "LR = ReduceLROnPlateau(monitor='val_loss', factor=0.5, patience=2, cooldown=1, verbose=1)# write the REducelronplateau code here\n",
    "callbacks_list = [checkpoint, LR]"
   ]
  },
  {
   "cell_type": "markdown",
   "metadata": {},
   "source": [
    "The `steps_per_epoch` and `validation_steps` are used by `fit_generator` to decide the number of next() calls it need to make."
   ]
  },
  {
   "cell_type": "code",
   "execution_count": 19,
   "metadata": {},
   "outputs": [],
   "source": [
    "if (num_train_sequences%batch_size) == 0:\n",
    "    steps_per_epoch = int(num_train_sequences/batch_size)\n",
    "else:\n",
    "    steps_per_epoch = (num_train_sequences//batch_size) + 1\n",
    "\n",
    "if (num_val_sequences%batch_size) == 0:\n",
    "    validation_steps = int(num_val_sequences/batch_size)\n",
    "else:\n",
    "    validation_steps = (num_val_sequences//batch_size) + 1"
   ]
  },
  {
   "cell_type": "markdown",
   "metadata": {},
   "source": [
    "Let us now fit the model. This will start training the model and with the help of the checkpoints, you'll be able to save the model at the end of each epoch."
   ]
  },
  {
   "cell_type": "code",
   "execution_count": 20,
   "metadata": {},
   "outputs": [
    {
     "name": "stdout",
     "output_type": "stream",
     "text": [
      "Source path =  storage/Project_data/train ; batch size = 16\n",
      "Source path =  storage/Project_data/train ; batch size =Epoch 1/25\n",
      " 16\n"
     ]
    },
    {
     "name": "stderr",
     "output_type": "stream",
     "text": [
      "/mnt/disks/user/anaconda3/lib/python3.6/site-packages/ipykernel_launcher.py:6: DeprecationWarning: `imresize` is deprecated!\n",
      "`imresize` is deprecated in SciPy 1.0.0, and will be removed in 1.2.0.\n",
      "Use ``skimage.transform.resize`` instead.\n",
      "  \n"
     ]
    },
    {
     "name": "stdout",
     "output_type": "stream",
     "text": [
      "42/42 [==============================] - 183s 4s/step - loss: 1.2405 - categorical_accuracy: 0.5065 - val_loss: 0.7999 - val_categorical_accuracy: 0.7098\n",
      "\n",
      "Epoch 00001: saving model to CNN_RNN_Models/Trial9_Aug_Affine_2019-03-1607_52_52.260330/model-00001-1.24443-0.50377-0.79994-0.70982.h5\n",
      "Epoch 2/25\n",
      "42/42 [==============================] - 58s 1s/step - loss: 0.9728 - categorical_accuracy: 0.6327 - val_loss: 1.0713 - val_categorical_accuracy: 0.5982\n",
      "\n",
      "Epoch 00002: saving model to CNN_RNN_Models/Trial9_Aug_Affine_2019-03-1607_52_52.260330/model-00002-0.97275-0.63265-1.07128-0.59821.h5\n",
      "Epoch 3/25\n",
      "42/42 [==============================] - 59s 1s/step - loss: 0.9698 - categorical_accuracy: 0.6293 - val_loss: 1.0057 - val_categorical_accuracy: 0.6339\n",
      "\n",
      "Epoch 00003: saving model to CNN_RNN_Models/Trial9_Aug_Affine_2019-03-1607_52_52.260330/model-00003-0.96980-0.62925-1.00575-0.63393.h5\n",
      "\n",
      "Epoch 00003: ReduceLROnPlateau reducing learning rate to 0.0005000000237487257.\n",
      "Epoch 4/25\n",
      "42/42 [==============================] - 49s 1s/step - loss: 0.6506 - categorical_accuracy: 0.7551 - val_loss: 0.4410 - val_categorical_accuracy: 0.8170\n",
      "\n",
      "Epoch 00004: saving model to CNN_RNN_Models/Trial9_Aug_Affine_2019-03-1607_52_52.260330/model-00004-0.68208-0.74130-0.44097-0.81696.h5\n",
      "Epoch 5/25\n",
      "42/42 [==============================] - 45s 1s/step - loss: 0.5092 - categorical_accuracy: 0.8238 - val_loss: 0.3615 - val_categorical_accuracy: 0.8750\n",
      "\n",
      "Epoch 00005: saving model to CNN_RNN_Models/Trial9_Aug_Affine_2019-03-1607_52_52.260330/model-00005-0.50916-0.82381-0.36152-0.87500.h5\n",
      "Epoch 6/25\n",
      "42/42 [==============================] - 42s 994ms/step - loss: 0.5749 - categorical_accuracy: 0.7952 - val_loss: 0.4225 - val_categorical_accuracy: 0.8544\n",
      "\n",
      "Epoch 00006: saving model to CNN_RNN_Models/Trial9_Aug_Affine_2019-03-1607_52_52.260330/model-00006-0.57492-0.79524-0.42246-0.85437.h5\n",
      "Epoch 7/25\n",
      "42/42 [==============================] - 32s 751ms/step - loss: 0.4739 - categorical_accuracy: 0.8186 - val_loss: 0.3611 - val_categorical_accuracy: 0.8469\n",
      "\n",
      "Epoch 00007: saving model to CNN_RNN_Models/Trial9_Aug_Affine_2019-03-1607_52_52.260330/model-00007-0.50547-0.80000-0.36107-0.84694.h5\n",
      "Epoch 8/25\n",
      "42/42 [==============================] - 26s 622ms/step - loss: 0.4608 - categorical_accuracy: 0.8294 - val_loss: 0.3060 - val_categorical_accuracy: 0.8571\n",
      "\n",
      "Epoch 00008: saving model to CNN_RNN_Models/Trial9_Aug_Affine_2019-03-1607_52_52.260330/model-00008-0.46081-0.82937-0.30604-0.85714.h5\n",
      "Epoch 9/25\n",
      "42/42 [==============================] - 26s 621ms/step - loss: 0.5183 - categorical_accuracy: 0.8016 - val_loss: 0.4571 - val_categorical_accuracy: 0.8469\n",
      "\n",
      "Epoch 00009: saving model to CNN_RNN_Models/Trial9_Aug_Affine_2019-03-1607_52_52.260330/model-00009-0.51835-0.80159-0.45710-0.84694.h5\n",
      "Epoch 10/25\n",
      "42/42 [==============================] - 25s 594ms/step - loss: 0.5377 - categorical_accuracy: 0.7976 - val_loss: 0.2960 - val_categorical_accuracy: 0.8878\n",
      "\n",
      "Epoch 00010: saving model to CNN_RNN_Models/Trial9_Aug_Affine_2019-03-1607_52_52.260330/model-00010-0.53769-0.79762-0.29597-0.88776.h5\n",
      "Epoch 11/25\n",
      "42/42 [==============================] - 26s 614ms/step - loss: 0.4219 - categorical_accuracy: 0.8770 - val_loss: 0.1243 - val_categorical_accuracy: 0.9796\n",
      "\n",
      "Epoch 00011: saving model to CNN_RNN_Models/Trial9_Aug_Affine_2019-03-1607_52_52.260330/model-00011-0.42193-0.87698-0.12432-0.97959.h5\n",
      "Epoch 12/25\n",
      "42/42 [==============================] - 26s 609ms/step - loss: 0.4489 - categorical_accuracy: 0.8611 - val_loss: 0.1031 - val_categorical_accuracy: 0.9796\n",
      "\n",
      "Epoch 00012: saving model to CNN_RNN_Models/Trial9_Aug_Affine_2019-03-1607_52_52.260330/model-00012-0.44886-0.86111-0.10308-0.97959.h5\n",
      "Epoch 13/25\n",
      "42/42 [==============================] - 25s 606ms/step - loss: 0.1904 - categorical_accuracy: 0.9365 - val_loss: 0.1148 - val_categorical_accuracy: 0.9694\n",
      "\n",
      "Epoch 00013: saving model to CNN_RNN_Models/Trial9_Aug_Affine_2019-03-1607_52_52.260330/model-00013-0.19042-0.93651-0.11478-0.96939.h5\n",
      "Epoch 14/25\n",
      "42/42 [==============================] - 27s 634ms/step - loss: 0.3161 - categorical_accuracy: 0.8929 - val_loss: 0.1974 - val_categorical_accuracy: 0.9184\n",
      "\n",
      "Epoch 00014: saving model to CNN_RNN_Models/Trial9_Aug_Affine_2019-03-1607_52_52.260330/model-00014-0.31606-0.89286-0.19736-0.91837.h5\n",
      "\n",
      "Epoch 00014: ReduceLROnPlateau reducing learning rate to 0.0002500000118743628.\n",
      "Epoch 15/25\n",
      "42/42 [==============================] - 24s 582ms/step - loss: 0.2900 - categorical_accuracy: 0.9087 - val_loss: 0.0496 - val_categorical_accuracy: 0.9898\n",
      "\n",
      "Epoch 00015: saving model to CNN_RNN_Models/Trial9_Aug_Affine_2019-03-1607_52_52.260330/model-00015-0.28998-0.90873-0.04963-0.98980.h5\n",
      "Epoch 16/25\n",
      "42/42 [==============================] - 26s 609ms/step - loss: 0.1514 - categorical_accuracy: 0.9722 - val_loss: 0.0621 - val_categorical_accuracy: 0.9694\n",
      "\n",
      "Epoch 00016: saving model to CNN_RNN_Models/Trial9_Aug_Affine_2019-03-1607_52_52.260330/model-00016-0.15138-0.97222-0.06212-0.96939.h5\n",
      "Epoch 17/25\n",
      "42/42 [==============================] - 26s 613ms/step - loss: 0.1483 - categorical_accuracy: 0.9444 - val_loss: 0.0564 - val_categorical_accuracy: 0.9898\n",
      "\n",
      "Epoch 00017: saving model to CNN_RNN_Models/Trial9_Aug_Affine_2019-03-1607_52_52.260330/model-00017-0.14835-0.94444-0.05636-0.98980.h5\n",
      "\n",
      "Epoch 00017: ReduceLROnPlateau reducing learning rate to 0.0001250000059371814.\n",
      "Epoch 18/25\n",
      "42/42 [==============================] - 25s 603ms/step - loss: 0.0771 - categorical_accuracy: 0.9881 - val_loss: 0.0513 - val_categorical_accuracy: 0.9898\n",
      "\n",
      "Epoch 00018: saving model to CNN_RNN_Models/Trial9_Aug_Affine_2019-03-1607_52_52.260330/model-00018-0.07710-0.98810-0.05131-0.98980.h5\n",
      "Epoch 19/25\n",
      "42/42 [==============================] - 25s 593ms/step - loss: 0.0595 - categorical_accuracy: 0.9921 - val_loss: 0.0187 - val_categorical_accuracy: 1.0000\n",
      "\n",
      "Epoch 00019: saving model to CNN_RNN_Models/Trial9_Aug_Affine_2019-03-1607_52_52.260330/model-00019-0.05952-0.99206-0.01870-1.00000.h5\n",
      "Epoch 20/25\n",
      "42/42 [==============================] - 26s 610ms/step - loss: 0.0666 - categorical_accuracy: 0.9802 - val_loss: 0.0627 - val_categorical_accuracy: 0.9756\n",
      "\n",
      "Epoch 00020: saving model to CNN_RNN_Models/Trial9_Aug_Affine_2019-03-1607_52_52.260330/model-00020-0.06655-0.98016-0.06269-0.97561.h5\n",
      "Epoch 21/25\n",
      "42/42 [==============================] - 25s 586ms/step - loss: 0.0689 - categorical_accuracy: 0.9802 - val_loss: 0.0151 - val_categorical_accuracy: 1.0000\n",
      "\n",
      "Epoch 00021: saving model to CNN_RNN_Models/Trial9_Aug_Affine_2019-03-1607_52_52.260330/model-00021-0.06886-0.98016-0.01506-1.00000.h5\n",
      "Epoch 22/25\n",
      "42/42 [==============================] - 24s 570ms/step - loss: 0.0731 - categorical_accuracy: 0.9802 - val_loss: 0.0256 - val_categorical_accuracy: 1.0000\n",
      "\n",
      "Epoch 00022: saving model to CNN_RNN_Models/Trial9_Aug_Affine_2019-03-1607_52_52.260330/model-00022-0.07307-0.98016-0.02559-1.00000.h5\n",
      "Epoch 23/25\n",
      "42/42 [==============================] - 25s 601ms/step - loss: 0.0476 - categorical_accuracy: 0.9960 - val_loss: 0.0102 - val_categorical_accuracy: 1.0000\n",
      "\n",
      "Epoch 00023: saving model to CNN_RNN_Models/Trial9_Aug_Affine_2019-03-1607_52_52.260330/model-00023-0.04765-0.99603-0.01023-1.00000.h5\n",
      "Epoch 24/25\n",
      "42/42 [==============================] - 25s 586ms/step - loss: 0.0454 - categorical_accuracy: 0.9960 - val_loss: 0.0063 - val_categorical_accuracy: 1.0000\n",
      "\n",
      "Epoch 00024: saving model to CNN_RNN_Models/Trial9_Aug_Affine_2019-03-1607_52_52.260330/model-00024-0.04541-0.99603-0.00629-1.00000.h5\n",
      "Epoch 25/25\n",
      "42/42 [==============================] - 25s 596ms/step - loss: 0.0583 - categorical_accuracy: 0.9841 - val_loss: 0.0150 - val_categorical_accuracy: 1.0000\n",
      "\n",
      "Epoch 00025: saving model to CNN_RNN_Models/Trial9_Aug_Affine_2019-03-1607_52_52.260330/model-00025-0.05835-0.98413-0.01497-1.00000.h5\n"
     ]
    },
    {
     "data": {
      "text/plain": [
       "<keras.callbacks.History at 0x7f9bea7f7e10>"
      ]
     },
     "execution_count": 20,
     "metadata": {},
     "output_type": "execute_result"
    }
   ],
   "source": [
    "model.fit_generator(train_generator, steps_per_epoch=steps_per_epoch, epochs=num_epochs, verbose=1, \n",
    "                    callbacks=callbacks_list, validation_data=val_generator, \n",
    "                    validation_steps=validation_steps, class_weight=None, workers=1, initial_epoch=0)"
   ]
  },
  {
   "cell_type": "code",
   "execution_count": null,
   "metadata": {},
   "outputs": [],
   "source": []
  }
 ],
 "metadata": {
  "kernelspec": {
   "display_name": "Python 3",
   "language": "python",
   "name": "python3"
  },
  "language_info": {
   "codemirror_mode": {
    "name": "ipython",
    "version": 3
   },
   "file_extension": ".py",
   "mimetype": "text/x-python",
   "name": "python",
   "nbconvert_exporter": "python",
   "pygments_lexer": "ipython3",
   "version": "3.6.5"
  }
 },
 "nbformat": 4,
 "nbformat_minor": 2
}
